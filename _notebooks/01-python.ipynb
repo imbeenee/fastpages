{
 "cells": [
  {
   "cell_type": "markdown",
   "metadata": {},
   "source": [
    "### 단축키\n",
    "- Markdown = ESC + M"
   ]
  },
  {
   "cell_type": "markdown",
   "metadata": {},
   "source": [
    "## 비교 연산자 조건 중첩"
   ]
  },
  {
   "cell_type": "code",
   "execution_count": 4,
   "metadata": {},
   "outputs": [
    {
     "data": {
      "text/plain": [
       "True"
      ]
     },
     "execution_count": 4,
     "metadata": {},
     "output_type": "execute_result"
    }
   ],
   "source": [
    "#양쪽 모두  True일때\n",
    "12 % 2 == 0 and 12 % 3 == 0"
   ]
  },
  {
   "cell_type": "code",
   "execution_count": 5,
   "metadata": {},
   "outputs": [
    {
     "data": {
      "text/plain": [
       "True"
      ]
     },
     "execution_count": 5,
     "metadata": {},
     "output_type": "execute_result"
    }
   ],
   "source": [
    "#양쪽 중 하나가 False일때\n",
    "14 % 2 == 0 or 14 % 3 == 0"
   ]
  },
  {
   "cell_type": "markdown",
   "metadata": {},
   "source": [
    "## 변수\n",
    "변수 명으로 허용되지 않는 것들\n",
    "1. 숫자가 앞에 붙을 경우\n",
    "2. 언더바(_)를 제외한 특수기호\n",
    "3. 띄어쓰기"
   ]
  },
  {
   "cell_type": "code",
   "execution_count": 11,
   "metadata": {},
   "outputs": [
    {
     "name": "stdout",
     "output_type": "stream",
     "text": [
      "4\n"
     ]
    },
    {
     "data": {
      "text/plain": [
       "6"
      ]
     },
     "execution_count": 11,
     "metadata": {},
     "output_type": "execute_result"
    }
   ],
   "source": [
    "#변수의 특징 : 변수는 자기 자신을 이용해서 계산 한 다음에 그 결과를 다시 자기 자신에 재할당한다.\n",
    "a = 3\n",
    "\n",
    "a = a + 1\n",
    "print(a) #마지막 변수가 아님에도 출력하고 싶을때는 print()\n",
    "\n",
    "a = a + 2 #재할당\n",
    "a"
   ]
  },
  {
   "cell_type": "markdown",
   "metadata": {},
   "source": [
    "## 문자열(str)\n",
    "\n",
    "\n",
    "1. str == string == 문자열\n",
    "   - 문자열의 외곽은 쌍따옴표 \" \"로 감싸준다 → 변수랑 헷갈릴 수 있기 때문에\n",
    "   - 문자열의 외곽은 홑따움표 : 문장 내 홑따옴표가 없을 경우 홑따옴표 ' ' 로 감싸줘도 무방\n",
    "     (\"Shanyne's weight?\")\n",
    "   - 대/소문자를 구분한다.\n",
    "   \n",
    "  \n",
    "2. int == integer == 정수형"
   ]
  },
  {
   "cell_type": "code",
   "execution_count": 12,
   "metadata": {},
   "outputs": [
    {
     "data": {
      "text/plain": [
       "'Hello World!'"
      ]
     },
     "execution_count": 12,
     "metadata": {},
     "output_type": "execute_result"
    }
   ],
   "source": [
    "\"Hello World!\""
   ]
  },
  {
   "cell_type": "code",
   "execution_count": 15,
   "metadata": {},
   "outputs": [
    {
     "data": {
      "text/plain": [
       "'a'"
      ]
     },
     "execution_count": 15,
     "metadata": {},
     "output_type": "execute_result"
    }
   ],
   "source": [
    "\"a\""
   ]
  },
  {
   "cell_type": "code",
   "execution_count": 17,
   "metadata": {},
   "outputs": [
    {
     "data": {
      "text/plain": [
       "False"
      ]
     },
     "execution_count": 17,
     "metadata": {},
     "output_type": "execute_result"
    }
   ],
   "source": [
    "#대소문자 구분\n",
    "\"C\" == \"c\""
   ]
  },
  {
   "cell_type": "code",
   "execution_count": 18,
   "metadata": {},
   "outputs": [
    {
     "data": {
      "text/plain": [
       "'12'"
      ]
     },
     "execution_count": 18,
     "metadata": {},
     "output_type": "execute_result"
    }
   ],
   "source": [
    "#문자열의 숫자 결과\n",
    "\"1\" + \"2\""
   ]
  },
  {
   "cell_type": "markdown",
   "metadata": {},
   "source": [
    "## 문자열(심화)"
   ]
  },
  {
   "cell_type": "code",
   "execution_count": 25,
   "metadata": {},
   "outputs": [
    {
     "data": {
      "text/plain": [
       "'Hello World!'"
      ]
     },
     "execution_count": 25,
     "metadata": {},
     "output_type": "execute_result"
    }
   ],
   "source": [
    "message = \"Hello World!\"\n",
    "message"
   ]
  },
  {
   "cell_type": "code",
   "execution_count": 26,
   "metadata": {},
   "outputs": [
    {
     "name": "stdout",
     "output_type": "stream",
     "text": [
      "H\n",
      "e\n",
      "!\n"
     ]
    }
   ],
   "source": [
    "#indexing: 문자열에서 순서대로 가져오기\n",
    "print(message[0])\n",
    "print(message[1])\n",
    "print(message[-1]) #마지막 글자(왜 -0이 아니냐? 수학적으로 +0 == -0 똑같기 때문)"
   ]
  },
  {
   "cell_type": "code",
   "execution_count": 27,
   "metadata": {},
   "outputs": [
    {
     "data": {
      "text/plain": [
       "'Hell'"
      ]
     },
     "execution_count": 27,
     "metadata": {},
     "output_type": "execute_result"
    }
   ],
   "source": [
    "# Slicing: 전체 문자열에서 특정 구간 가져오기\n",
    "message[0:4] #0 생략 가능 → [ : 4]"
   ]
  },
  {
   "cell_type": "code",
   "execution_count": 28,
   "metadata": {},
   "outputs": [
    {
     "data": {
      "text/plain": [
       "'o World!'"
      ]
     },
     "execution_count": 28,
     "metadata": {},
     "output_type": "execute_result"
    }
   ],
   "source": [
    "message [4:]"
   ]
  },
  {
   "cell_type": "code",
   "execution_count": 32,
   "metadata": {},
   "outputs": [
    {
     "name": "stdout",
     "output_type": "stream",
     "text": [
      "True\n",
      "False\n",
      "True\n"
     ]
    }
   ],
   "source": [
    "#문자열 내 포함되는지 check\n",
    "\n",
    "\"H\" in message\n",
    "\"h\" in message\n",
    "\"Hell\" in message\n",
    "\n",
    "print(\"H\" in message)\n",
    "print(\"h\" in message)\n",
    "print(\"Hell\" in message)"
   ]
  },
  {
   "cell_type": "markdown",
   "metadata": {},
   "source": [
    "## method : 다양한 기능 \n",
    "\n",
    "1. \".\" + tab: method 리스트 보기\n",
    "2. method 입력한 상태에서 shift+tab 하면 상세설명 보기 가능"
   ]
  },
  {
   "cell_type": "code",
   "execution_count": 35,
   "metadata": {},
   "outputs": [
    {
     "name": "stdout",
     "output_type": "stream",
     "text": [
      "HELLO WORLD!\n",
      "hello world!\n",
      "2\n",
      "hello World!\n"
     ]
    }
   ],
   "source": [
    "message.upper()  #전부 대문자\n",
    "message.lower()  #전부 소문자\n",
    "message.count(\"o\")  #\"o\" 몇개 있는지 카운트\n",
    "message.replace(\"H\",\"h\")  # 대문자 H를 소문자 h로 변경하기\n",
    "\n",
    "print(message.upper())\n",
    "print(message.lower())\n",
    "print(message.count(\"o\"))\n",
    "print(message.replace(\"H\",\"h\"))"
   ]
  },
  {
   "cell_type": "markdown",
   "metadata": {},
   "source": [
    "## 불(bool)\n",
    "\n",
    "- 참과 거짓을 나타내는 개념\n",
    "- 불을 사용하는 이유? 우리가 무언가를 비교할때 훨씬 더 직관적이기 때문"
   ]
  },
  {
   "cell_type": "code",
   "execution_count": 19,
   "metadata": {},
   "outputs": [
    {
     "data": {
      "text/plain": [
       "True"
      ]
     },
     "execution_count": 19,
     "metadata": {},
     "output_type": "execute_result"
    }
   ],
   "source": [
    "True == 1"
   ]
  },
  {
   "cell_type": "code",
   "execution_count": 20,
   "metadata": {},
   "outputs": [
    {
     "data": {
      "text/plain": [
       "True"
      ]
     },
     "execution_count": 20,
     "metadata": {},
     "output_type": "execute_result"
    }
   ],
   "source": [
    "False == 0"
   ]
  },
  {
   "cell_type": "code",
   "execution_count": 21,
   "metadata": {
    "scrolled": true
   },
   "outputs": [
    {
     "data": {
      "text/plain": [
       "False"
      ]
     },
     "execution_count": 21,
     "metadata": {},
     "output_type": "execute_result"
    }
   ],
   "source": [
    "True == \"True\""
   ]
  },
  {
   "cell_type": "markdown",
   "metadata": {},
   "source": [
    "## 에러"
   ]
  },
  {
   "cell_type": "code",
   "execution_count": 24,
   "metadata": {},
   "outputs": [
    {
     "ename": "TypeError",
     "evalue": "unsupported operand type(s) for +: 'int' and 'str'",
     "output_type": "error",
     "traceback": [
      "\u001b[1;31m---------------------------------------------------------------------------\u001b[0m",
      "\u001b[1;31mTypeError\u001b[0m                                 Traceback (most recent call last)",
      "\u001b[1;32m<ipython-input-24-2c1842e9b0e0>\u001b[0m in \u001b[0;36m<module>\u001b[1;34m\u001b[0m\n\u001b[0;32m      1\u001b[0m \u001b[1;31m#명시적이지 않은 코드일 경우 에러를 띄운다.\u001b[0m\u001b[1;33m\u001b[0m\u001b[1;33m\u001b[0m\u001b[1;33m\u001b[0m\u001b[0m\n\u001b[0;32m      2\u001b[0m \u001b[1;33m\u001b[0m\u001b[0m\n\u001b[1;32m----> 3\u001b[1;33m \u001b[1;36m1\u001b[0m \u001b[1;33m+\u001b[0m \u001b[1;34m\"2\"\u001b[0m\u001b[1;33m\u001b[0m\u001b[1;33m\u001b[0m\u001b[0m\n\u001b[0m",
      "\u001b[1;31mTypeError\u001b[0m: unsupported operand type(s) for +: 'int' and 'str'"
     ]
    }
   ],
   "source": [
    "#명시적이지 않은 코드일 경우 에러를 띄운다.\n",
    "\n",
    "1 + \"2\""
   ]
  },
  {
   "cell_type": "markdown",
   "metadata": {},
   "source": [
    "## 리스트\n",
    "\n",
    "- 여러개의 값을 묶어서 할당하는 것\n",
    "- 대괄호 [ ] 안에 리스트가 들어가고, 리스트 안에 여러개의 값을 담을 수 있음"
   ]
  },
  {
   "cell_type": "code",
   "execution_count": 46,
   "metadata": {},
   "outputs": [
    {
     "data": {
      "text/plain": [
       "[1, 3, 5, 7, 9]"
      ]
     },
     "execution_count": 46,
     "metadata": {},
     "output_type": "execute_result"
    }
   ],
   "source": [
    "odd = [1,3,5,7,9]\n",
    "odd"
   ]
  },
  {
   "cell_type": "code",
   "execution_count": 38,
   "metadata": {},
   "outputs": [
    {
     "name": "stdout",
     "output_type": "stream",
     "text": [
      "True\n",
      "False\n"
     ]
    }
   ],
   "source": [
    "1 in odd\n",
    "2 in odd\n",
    "\n",
    "print(1 in odd)\n",
    "print(2 in odd)"
   ]
  },
  {
   "cell_type": "code",
   "execution_count": 40,
   "metadata": {},
   "outputs": [
    {
     "data": {
      "text/plain": [
       "[1, 3, 5, 7, 9, 11, 11]"
      ]
     },
     "execution_count": 40,
     "metadata": {},
     "output_type": "execute_result"
    }
   ],
   "source": [
    "#변수에 값 추가하기 method는 append(추가할 값)\n",
    "odd.append(11)\n",
    "odd"
   ]
  },
  {
   "cell_type": "code",
   "execution_count": 47,
   "metadata": {},
   "outputs": [
    {
     "data": {
      "text/plain": [
       "[1, 3, 5, 7, 9, 13, 15, 17]"
      ]
     },
     "execution_count": 47,
     "metadata": {},
     "output_type": "execute_result"
    }
   ],
   "source": [
    "#변수에 여러개의 값 추가하기 : 리스트에 리스트로 더하기\n",
    "#!주의할 점! : 변수명을 그대로 실행하면 안되고, 변수로 다시 한번 묶어줘야함\n",
    "\n",
    "odd = odd + [13,15,17]\n",
    "odd"
   ]
  },
  {
   "cell_type": "code",
   "execution_count": 49,
   "metadata": {},
   "outputs": [
    {
     "data": {
      "text/plain": [
       "[1, 3, 5, -1, 9, 13, 15, 17]"
      ]
     },
     "execution_count": 49,
     "metadata": {},
     "output_type": "execute_result"
    }
   ],
   "source": [
    "#변수 중 특정 위치 값 변경\n",
    "\n",
    "odd[3] = -1 # 4번째 위치 값을 -1로 변경\n",
    "odd"
   ]
  },
  {
   "cell_type": "markdown",
   "metadata": {},
   "source": [
    "## 제어문 (if문)\n",
    "\n",
    " - 콜론\"  :\" & 들여쓰기 주의하기! 들여쓰기는 if문의 범위를 나타낸다.\n",
    " - elif로 분기를 넣는 개념이다.\n",
    " - else는 생략가능하다."
   ]
  },
  {
   "cell_type": "code",
   "execution_count": 53,
   "metadata": {},
   "outputs": [
    {
     "name": "stdout",
     "output_type": "stream",
     "text": [
      "학생\n"
     ]
    }
   ],
   "source": [
    "age = 17\n",
    "\n",
    "if age < 5:\n",
    "    print(\"아이\")\n",
    "elif age < 18:\n",
    "    print(\"학생\")\n",
    "else:\n",
    "    print(\"어른\")"
   ]
  },
  {
   "cell_type": "code",
   "execution_count": 54,
   "metadata": {},
   "outputs": [
    {
     "name": "stdout",
     "output_type": "stream",
     "text": [
      "해당되지 않습니다.\n"
     ]
    }
   ],
   "source": [
    "age > 5\n",
    "\n",
    "if age < 5:\n",
    "    print(\"아이\")\n",
    "\n",
    "print(\"해당되지 않습니다.\")"
   ]
  },
  {
   "cell_type": "markdown",
   "metadata": {},
   "source": [
    "## 반복문 (for문)\n",
    "\n",
    "- 콜론\"  :\" & 들여쓰기 주의하기! 들여쓰기는 for문의 범위를 나타낸다."
   ]
  },
  {
   "cell_type": "code",
   "execution_count": 58,
   "metadata": {
    "scrolled": true
   },
   "outputs": [
    {
     "name": "stdout",
     "output_type": "stream",
     "text": [
      "apple\n",
      "banana\n",
      "pineapple\n",
      "cherry\n"
     ]
    }
   ],
   "source": [
    "basket = ['apple','banana','pineapple','cherry']\n",
    "\n",
    "#리스트 안의 내용을 하나씩 가져오고 싶을 경우\n",
    "print(basket[0])\n",
    "print(basket[1])\n",
    "print(basket[2])\n",
    "print(basket[3])"
   ]
  },
  {
   "cell_type": "code",
   "execution_count": 62,
   "metadata": {},
   "outputs": [
    {
     "name": "stdout",
     "output_type": "stream",
     "text": [
      "apple\n",
      "banana\n",
      "pineapple\n",
      "cherry\n"
     ]
    }
   ],
   "source": [
    "# basekt 리스트 안에 있는 값을 하나씩 순서대로 꺼내오고, product라는 변수에 할당해라\n",
    "\n",
    "for product in basket:\n",
    "    print(product)\n",
    "\n",
    "    \n",
    "# for함수 작동 원리 / 하지만 아래 코드는 직관적이지 않을 뿐더러, 리스트 값이 추가될때마다 아래 과정도 계속 추가해줘야함\n",
    "#product = basket[0]\n",
    "#print(product)\n",
    "#product = basket[1]\n",
    "#print(product)\n",
    "#product = basket[2]\n",
    "#print(product)\n",
    "#product = basket[3]\n",
    "#print(product)"
   ]
  },
  {
   "cell_type": "code",
   "execution_count": 65,
   "metadata": {},
   "outputs": [
    {
     "name": "stdout",
     "output_type": "stream",
     "text": [
      "0\n",
      "1\n",
      "2\n",
      "3\n",
      "4\n",
      "5\n",
      "6\n",
      "7\n",
      "8\n",
      "9\n"
     ]
    }
   ],
   "source": [
    "# n회 반복하고 싶을 경우, range(n) 에 입력한다.\n",
    "\n",
    "for i in range(10):#10번 반복\n",
    "    print(i)"
   ]
  },
  {
   "cell_type": "code",
   "execution_count": 69,
   "metadata": {},
   "outputs": [
    {
     "name": "stdout",
     "output_type": "stream",
     "text": [
      "3\n",
      "4\n",
      "5\n",
      "6\n",
      "7\n",
      "8\n",
      "9\n"
     ]
    }
   ],
   "source": [
    "# n번째부터 n1번째까지 반복하고 싶을 경우\n",
    "\n",
    "for i in range(3,10): #(시작, 직전에 종료)\n",
    "    print(i)"
   ]
  },
  {
   "cell_type": "code",
   "execution_count": 72,
   "metadata": {},
   "outputs": [
    {
     "name": "stdout",
     "output_type": "stream",
     "text": [
      "bang!\n",
      "1\n",
      "bang!\n",
      "2\n",
      "bang!\n",
      "3\n",
      "bang!\n",
      "4\n"
     ]
    }
   ],
   "source": [
    "for i in range(1,5):\n",
    "    print(\"bang!\")  #한번만 입력했지만, for문 안에 포함되어 있으므로 계속 반복됨\n",
    "    print(i)"
   ]
  },
  {
   "cell_type": "markdown",
   "metadata": {},
   "source": [
    "## if문과 for문을 섞고싶다!"
   ]
  },
  {
   "cell_type": "code",
   "execution_count": 76,
   "metadata": {},
   "outputs": [
    {
     "name": "stdout",
     "output_type": "stream",
     "text": [
      "1\n",
      "2\n",
      "3\n",
      "4\n",
      "bang!\n",
      "5\n",
      "6\n",
      "7\n",
      "8\n",
      "9\n",
      "complete!\n"
     ]
    }
   ],
   "source": [
    "for i in range(1,10):\n",
    "    if i == 5: # i가 5일때 bang!을 실행해줬으면 좋겠어.\n",
    "            print(\"bang!\")  \n",
    "            \n",
    "    print(i)\n",
    "print(\"complete!\") #for문의 들여쓰기 범위에서 벗어났기 때문에 반복되지 않음"
   ]
  },
  {
   "cell_type": "code",
   "execution_count": 82,
   "metadata": {},
   "outputs": [
    {
     "name": "stdout",
     "output_type": "stream",
     "text": [
      "bang!\n",
      "5\n",
      "complete!\n"
     ]
    }
   ],
   "source": [
    "for i in range(1,10):\n",
    "    if i == 5: # i가 5일때 bang!을 실행해줬으면 좋겠어.\n",
    "            print(\"bang!\")  \n",
    "            print(i) # 이렇게 되면 if문 안에서 i가 실행되기 때문에 if조건에 맞는 값일때만 print가 실행됨\n",
    "print(\"complete!\")"
   ]
  },
  {
   "cell_type": "markdown",
   "metadata": {},
   "source": [
    "## 함수 (def)\n",
    "\n",
    "def = define\n",
    "\n",
    "양적으로 프로그램을 많이 하다보면 코드가 중복되는 경우라던지, 특정 코드만 고치지 않는 경우가 발생.\n",
    "이렇게 되면 서로 충돌이 일어나면서 버그가 터짐\n",
    "숙련된 프로그래머라면, 이 중복되는 코드를 묶어서 모듈화를 시킴\n",
    "모듈화를 시켜서 그 모듈만 실행하게 되는데, 이걸 함수라고 함\n",
    "\n",
    "- 함수의 장점\n",
    "1. 중복된 코드를 함수 이름으로 묶어서 이름 1개만 실행하면 50줄의 코드가 쭉 실행됨\n",
    "2. 기능을 고쳐야한다면 함수 안에 있는 기능 1개만 고치면 된다."
   ]
  },
  {
   "cell_type": "code",
   "execution_count": null,
   "metadata": {},
   "outputs": [],
   "source": [
    "def multiply(a,b):\n",
    "    #?         ▼이렇게 많은 코드들을 정의해놓고, multiply라는 함수 하나만 실행하면 됨 / 이런식으로 모듈을 만드는 것임\n",
    "    #?\n",
    "    #?\n",
    "    #?\n",
    "    #?\n",
    "    #?"
   ]
  },
  {
   "cell_type": "code",
   "execution_count": 87,
   "metadata": {},
   "outputs": [
    {
     "data": {
      "text/plain": [
       "6"
      ]
     },
     "execution_count": 87,
     "metadata": {},
     "output_type": "execute_result"
    }
   ],
   "source": [
    "def multiply(a,b):   #이 함수를 실행결과를\n",
    "    c = a * b\n",
    "    \n",
    "    return c        # c라는 값으로 바꿔치운다 (replace라고 생각하면됨)\n",
    "\n",
    "multiply(2,3)        # a에 2의 값을 할당, b에 3의 값을 할당해서 c = 2*3 . 결과적으로 c의 값이 return됨"
   ]
  },
  {
   "cell_type": "markdown",
   "metadata": {},
   "source": [
    "#### return과 print의 차이점?\n",
    "print는 결과값을 다 찍어내어 보여주지만, return은 처음 값을 반환하는 순간 이후의 값은 필요가 없어짐 = 처음 return값만 반환됨"
   ]
  },
  {
   "cell_type": "code",
   "execution_count": 91,
   "metadata": {},
   "outputs": [
    {
     "name": "stdout",
     "output_type": "stream",
     "text": [
      "음수\n",
      "0\n",
      "양수\n"
     ]
    }
   ],
   "source": [
    "def sign(n):\n",
    "    if n > 0:\n",
    "        return '양수'\n",
    "    elif n < 0:\n",
    "        return '음수'\n",
    "    else :\n",
    "        return '0'"
   ]
  },
  {
   "cell_type": "code",
   "execution_count": 92,
   "metadata": {},
   "outputs": [
    {
     "name": "stdout",
     "output_type": "stream",
     "text": [
      "음수\n",
      "0\n",
      "양수\n"
     ]
    }
   ],
   "source": [
    "sign(-1)\n",
    "sign(0)\n",
    "sign(+1)\n",
    "\n",
    "print(sign(-1))\n",
    "print(sign(0))\n",
    "print(sign(+1))"
   ]
  },
  {
   "cell_type": "markdown",
   "metadata": {},
   "source": [
    "#### 이걸 더 똑똑하게 코딩한다면?"
   ]
  },
  {
   "cell_type": "code",
   "execution_count": 94,
   "metadata": {},
   "outputs": [
    {
     "name": "stdout",
     "output_type": "stream",
     "text": [
      "음수\n",
      "0\n",
      "양수\n"
     ]
    }
   ],
   "source": [
    "for n in [-1, 0, +1]:\n",
    "    print(sign(n))"
   ]
  },
  {
   "cell_type": "code",
   "execution_count": null,
   "metadata": {},
   "outputs": [],
   "source": []
  },
  {
   "cell_type": "code",
   "execution_count": null,
   "metadata": {},
   "outputs": [],
   "source": []
  }
 ],
 "metadata": {
  "kernelspec": {
   "display_name": "Python 3",
   "language": "python",
   "name": "python3"
  },
  "language_info": {
   "codemirror_mode": {
    "name": "ipython",
    "version": 3
   },
   "file_extension": ".py",
   "mimetype": "text/x-python",
   "name": "python",
   "nbconvert_exporter": "python",
   "pygments_lexer": "ipython3",
   "version": "3.8.5"
  }
 },
 "nbformat": 4,
 "nbformat_minor": 4
}
